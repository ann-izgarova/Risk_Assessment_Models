{
  "nbformat": 4,
  "nbformat_minor": 0,
  "metadata": {
    "colab": {
      "provenance": [],
      "collapsed_sections": []
    },
    "kernelspec": {
      "name": "python3",
      "display_name": "Python 3"
    },
    "language_info": {
      "name": "python"
    }
  },
  "cells": [
    {
      "cell_type": "markdown",
      "source": [
        "## №1\n",
        "Loss X are exponentially distributed with an average value of 100 million rubles. What is 95% level VaR?"
      ],
      "metadata": {
        "id": "lENtaqZIj960"
      }
    },
    {
      "cell_type": "code",
      "source": [
        "from scipy.stats import expon\n",
        "import scipy.stats as ss\n",
        "import matplotlib.pyplot as plt\n",
        "import numpy as np\n",
        "import pandas as pd\n",
        "import matplotlib.pyplot as plt"
      ],
      "metadata": {
        "id": "nXls1BZKkKqz"
      },
      "execution_count": 152,
      "outputs": []
    },
    {
      "cell_type": "code",
      "source": [
        "# Создаем данные - экспоненциальное распределение со средним 100\n",
        "exp = np.random.exponential(100, 1000000)\n",
        "exp = pd.Series(exp)\n",
        "\n",
        "plt.hist(exp, 20, density = True)\n",
        "plt.axvline(x=100, color = 'red')\n",
        "plt.axvline(x=exp.mean(), color = 'black')\n",
        "plt.show()\n",
        "\n",
        "level = 0.95\n",
        "VaR = exp.quantile(level, interpolation = 'higher')\n",
        "VaR\n",
        "print(f'Ответ:  VaR = {VaR.round(2)}')"
      ],
      "metadata": {
        "colab": {
          "base_uri": "https://localhost:8080/",
          "height": 283
        },
        "id": "Alt6lUaAv3sk",
        "outputId": "bb07da2a-e919-4106-d0d3-2773f4f5b9f6"
      },
      "execution_count": 153,
      "outputs": [
        {
          "output_type": "display_data",
          "data": {
            "text/plain": [
              "<Figure size 432x288 with 1 Axes>"
            ],
            "image/png": "[encoded data removed]"
          },
          "metadata": {
            "needs_background": "light"
          }
        },
        {
          "output_type": "stream",
          "name": "stdout",
          "text": [
            "Ответ:  VaR = 299.32\n"
          ]
        }
      ]
    },
    {
      "cell_type": "markdown",
      "source": [
        "Вопрос:   \n",
        "1. Правильно я поняла, что нужно генерировать рандомные данные, а не какую-то непрерывное распределение?"
      ],
      "metadata": {
        "id": "IfF1w-_rzW41"
      }
    },
    {
      "cell_type": "markdown",
      "source": [
        "## №2\n",
        "The asset returns are normally distributed. The expected return is non-negative, and 95% VaR is 100 million. ES at the same confidence level can be:"
      ],
      "metadata": {
        "id": "aD-NbIxp1Kt2"
      }
    },
    {
      "cell_type": "markdown",
      "source": [
        "Вопросы:\n",
        "1. Ну да, я чисто логически понимаю, что так должно быть, потому что ES не может прям сильно превышать VaR, но возможно ли это вычислить?  \n",
        "2. Возможно ли восстановить нормальное распределение по квартилю, не зная мат ожидания и дисперсии?"
      ],
      "metadata": {
        "id": "ql08pWM34M7x"
      }
    },
    {
      "cell_type": "markdown",
      "source": [
        "## №3\n",
        "The analyst built a model to estimate VaR for the monthly financial results of the bank's trading division. He expects that losses greater then VaR occur once per two years on average . \n",
        "It is known that over the last 10 years actual losses hit estimated VaR nine times.\n",
        "\n",
        "Apply one-sided binomial test and determine the traffic-light zone that the model falls into."
      ],
      "metadata": {
        "id": "7-8SmHNc43ZP"
      }
    },
    {
      "cell_type": "markdown",
      "source": [
        "H0: Корректное число дней, когда потери превзошли ожидаемый уровень (Value at Risk)  \n",
        "H1: Процент дней, когда потери превзошли ожидаемый уровень (Value at Risk) больше 1% (или 5%, или 10%)  \n",
        "Если модель выдает много таких превышений ожидаемого уровня, значит она недооценивает потери"
      ],
      "metadata": {
        "id": "pxseu_CL7Cu-"
      }
    },
    {
      "cell_type": "code",
      "source": [
        "N = 10*12\n",
        "n = 9\n",
        "\n",
        "p_val = ss.binom_test(n, N, 1/24, alternative=\"greater\")\n",
        "\n",
        "def zone(p):\n",
        "  if p > 0.05:\n",
        "    return \"green\" # гипотеза верна, оставляем модель - хорошо работает\n",
        "  elif p > 0.0001: \n",
        "    return \"yellow\" # возможно это случайность, отправляем модель на карантин, нужно докрутить\n",
        "  else:\n",
        "    return \"red\"\n",
        "\n",
        "print('Reality: n / N = {:.2},\\nExpectation:  = {:.2}, \\np-value = {:.2}'.format(n/N, 1 / 24, p_val))\n",
        "print(zone(p_val))"
      ],
      "metadata": {
        "colab": {
          "base_uri": "https://localhost:8080/"
        },
        "id": "HE3ByHme48kN",
        "outputId": "5863385f-61ef-4d75-cdf0-62cfe5304957"
      },
      "execution_count": 154,
      "outputs": [
        {
          "output_type": "stream",
          "name": "stdout",
          "text": [
            "Reality: n / N = 0.075,\n",
            "Expectation:  = 0.042, \n",
            "p-value = 0.064\n",
            "green\n"
          ]
        }
      ]
    },
    {
      "cell_type": "markdown",
      "source": [
        "## №4\n",
        "The following code generates series of daily values of stock index:\n",
        "\n"
      ],
      "metadata": {
        "id": "i4fdn1BZ-tlZ"
      }
    },
    {
      "cell_type": "code",
      "source": [
        "np.random.seed(14)\n",
        "index_quotes = pd.Series(1700 + np.cumsum(np.random.randint(-10, 10, size=88)), index=pd.period_range(end=\"2021-09-01\", periods=88, freq=\"B\"), name='return')\n",
        "assert index_quotes.iloc[0] == 1701, \"Something is wrong! Contact the teacher\"\n",
        "\n",
        "plt.figure(figsize=(9,3))\n",
        "index_quotes.plot()\n",
        "\n",
        "# Посчитаем доходность, так количество наблюдений точно сократится на 1\n",
        "index_quotes = np.log(index_quotes).diff() # log-returns\n",
        "index_quotes"
      ],
      "metadata": {
        "colab": {
          "base_uri": "https://localhost:8080/",
          "height": 439
        },
        "id": "Mliq_kwe-zbo",
        "outputId": "42292487-6e6c-4613-f267-a00de7b45bca"
      },
      "execution_count": 159,
      "outputs": [
        {
          "output_type": "execute_result",
          "data": {
            "text/plain": [
              "2021-05-03         NaN\n",
              "2021-05-04    0.001175\n",
              "2021-05-05   -0.001763\n",
              "2021-05-06   -0.002356\n",
              "2021-05-07    0.000000\n",
              "                ...   \n",
              "2021-08-26    0.001198\n",
              "2021-08-27    0.000598\n",
              "2021-08-30   -0.005397\n",
              "2021-08-31    0.001802\n",
              "2021-09-01    0.003595\n",
              "Freq: B, Name: return, Length: 88, dtype: float64"
            ]
          },
          "metadata": {},
          "execution_count": 159
        },
        {
          "output_type": "display_data",
          "data": {
            "text/plain": [
              "<Figure size 648x216 with 1 Axes>"
            ],
            "image/png": "[encoded data removed]"
          },
          "metadata": {
            "needs_background": "light"
          }
        }
      ]
    },
    {
      "cell_type": "markdown",
      "source": [
        "\n",
        "The corresponding 1-day VaR estimates (denominated in basis points, 0.01%) for the same dates are generated by following code:\n"
      ],
      "metadata": {
        "id": "oolM52-u-7sY"
      }
    },
    {
      "cell_type": "code",
      "source": [
        "np.random.seed(88)\n",
        "VaRs = pd.Series(50 + np.random.randint(-10, 10, size=70), index=pd.period_range(end=\"2021-09-09\", periods=70, freq=\"B\"), name = 'VaRs')\n",
        "assert VaRs.iloc[0] == 40, \"Something is wrong! Contact the teacher\"\n",
        "print(VaRs)\n",
        "plt.figure(figsize=(9,3))\n",
        "VaRs.plot(color ='y')"
      ],
      "metadata": {
        "colab": {
          "base_uri": "https://localhost:8080/",
          "height": 457
        },
        "id": "QxL690iY--wx",
        "outputId": "8d041a76-b754-4f59-8ca3-67ecee2e5456"
      },
      "execution_count": 108,
      "outputs": [
        {
          "output_type": "stream",
          "name": "stdout",
          "text": [
            "2021-06-04    40\n",
            "2021-06-07    55\n",
            "2021-06-08    57\n",
            "2021-06-09    50\n",
            "2021-06-10    45\n",
            "              ..\n",
            "2021-09-03    46\n",
            "2021-09-06    54\n",
            "2021-09-07    56\n",
            "2021-09-08    59\n",
            "2021-09-09    56\n",
            "Freq: B, Name: VaRs, Length: 70, dtype: int64\n"
          ]
        },
        {
          "output_type": "execute_result",
          "data": {
            "text/plain": [
              "<matplotlib.axes._subplots.AxesSubplot at 0x7f77296ba110>"
            ]
          },
          "metadata": {},
          "execution_count": 108
        },
        {
          "output_type": "display_data",
          "data": {
            "text/plain": [
              "<Figure size 648x216 with 1 Axes>"
            ],
            "image/png": "[encoded data removed]"
          },
          "metadata": {
            "needs_background": "light"
          }
        }
      ]
    },
    {
      "cell_type": "markdown",
      "source": [
        "\n",
        "Determine how many observations these two series can provide for the back-test of 1-day VaR."
      ],
      "metadata": {
        "id": "77qsKAuq_AvT"
      }
    },
    {
      "cell_type": "code",
      "source": [
        "# У доходностей и value-at-risk разные даты, поэтому нужно найти только пересекающиеся\n",
        "print('Ответ:', len(pd.merge(index_quotes, VaRs, left_index=True, right_index=True)))"
      ],
      "metadata": {
        "colab": {
          "base_uri": "https://localhost:8080/"
        },
        "id": "dtTyxRcX_ZPX",
        "outputId": "d5be0a22-e71e-48c2-f000-5cb35b573903"
      },
      "execution_count": 155,
      "outputs": [
        {
          "output_type": "stream",
          "name": "stdout",
          "text": [
            "Ответ: 64\n"
          ]
        }
      ]
    },
    {
      "cell_type": "markdown",
      "source": [
        "## №5\n",
        "The following code generates series of daily values of stock index:"
      ],
      "metadata": {
        "id": "UOKstlESHFtP"
      }
    },
    {
      "cell_type": "code",
      "source": [
        "np.random.seed(14)\n",
        "index_quotes = pd.Series(1700 + np.cumsum(np.random.randint(-10, 10, size=88)), index=pd.period_range(end=\"2021-09-01\", periods=88, freq=\"B\"), name = 'diff')\n",
        "assert index_quotes.iloc[0] == 1701, \"Something is wrong! Contact the teacher\"\n",
        "\n",
        "# Посчитаем доходность, так количество наблюдений точно сократится на 1\n",
        "index_quotes = index_quotes.pct_change()*100 # это %-ы\n",
        "index_quotes\n",
        "pd.DataFrame(index_quotes).head()"
      ],
      "metadata": {
        "colab": {
          "base_uri": "https://localhost:8080/",
          "height": 206
        },
        "id": "OQAyTAEn_Y17",
        "outputId": "2a5118af-882d-485f-aed9-dce0333367b6"
      },
      "execution_count": 160,
      "outputs": [
        {
          "output_type": "execute_result",
          "data": {
            "text/plain": [
              "                diff\n",
              "2021-05-03       NaN\n",
              "2021-05-04  0.117578\n",
              "2021-05-05 -0.176160\n",
              "2021-05-06 -0.235294\n",
              "2021-05-07  0.000000"
            ],
            "text/html": [
              "\n",
              "  <div id=\"df-7c42cc08-cad1-4062-a793-2cd9ce4860cd\">\n",
              "    <div class=\"colab-df-container\">\n",
              "      <div>\n",
              "<style scoped>\n",
              "    .dataframe tbody tr th:only-of-type {\n",
              "        vertical-align: middle;\n",
              "    }\n",
              "\n",
              "    .dataframe tbody tr th {\n",
              "        vertical-align: top;\n",
              "    }\n",
              "\n",
              "    .dataframe thead th {\n",
              "        text-align: right;\n",
              "    }\n",
              "</style>\n",
              "<table border=\"1\" class=\"dataframe\">\n",
              "  <thead>\n",
              "    <tr style=\"text-align: right;\">\n",
              "      <th></th>\n",
              "      <th>diff</th>\n",
              "    </tr>\n",
              "  </thead>\n",
              "  <tbody>\n",
              "    <tr>\n",
              "      <th>2021-05-03</th>\n",
              "      <td>NaN</td>\n",
              "    </tr>\n",
              "    <tr>\n",
              "      <th>2021-05-04</th>\n",
              "      <td>0.117578</td>\n",
              "    </tr>\n",
              "    <tr>\n",
              "      <th>2021-05-05</th>\n",
              "      <td>-0.176160</td>\n",
              "    </tr>\n",
              "    <tr>\n",
              "      <th>2021-05-06</th>\n",
              "      <td>-0.235294</td>\n",
              "    </tr>\n",
              "    <tr>\n",
              "      <th>2021-05-07</th>\n",
              "      <td>0.000000</td>\n",
              "    </tr>\n",
              "  </tbody>\n",
              "</table>\n",
              "</div>\n",
              "      <button class=\"colab-df-convert\" onclick=\"convertToInteractive('df-7c42cc08-cad1-4062-a793-2cd9ce4860cd')\"\n",
              "              title=\"Convert this dataframe to an interactive table.\"\n",
              "              style=\"display:none;\">\n",
              "        \n",
              "  <svg xmlns=\"http://www.w3.org/2000/svg\" height=\"24px\"viewBox=\"0 0 24 24\"\n",
              "       width=\"24px\">\n",
              "    <path d=\"M0 0h24v24H0V0z\" fill=\"none\"/>\n",
              "    <path d=\"M18.56 5.44l.94 2.06.94-2.06 2.06-.94-2.06-.94-.94-2.06-.94 2.06-2.06.94zm-11 1L8.5 8.5l.94-2.06 2.06-.94-2.06-.94L8.5 2.5l-.94 2.06-2.06.94zm10 10l.94 2.06.94-2.06 2.06-.94-2.06-.94-.94-2.06-.94 2.06-2.06.94z\"/><path d=\"M17.41 7.96l-1.37-1.37c-.4-.4-.92-.59-1.43-.59-.52 0-1.04.2-1.43.59L10.3 9.45l-7.72 7.72c-.78.78-.78 2.05 0 2.83L4 21.41c.39.39.9.59 1.41.59.51 0 1.02-.2 1.41-.59l7.78-7.78 2.81-2.81c.8-.78.8-2.07 0-2.86zM5.41 20L4 18.59l7.72-7.72 1.47 1.35L5.41 20z\"/>\n",
              "  </svg>\n",
              "      </button>\n",
              "      \n",
              "  <style>\n",
              "    .colab-df-container {\n",
              "      display:flex;\n",
              "      flex-wrap:wrap;\n",
              "      gap: 12px;\n",
              "    }\n",
              "\n",
              "    .colab-df-convert {\n",
              "      background-color: #E8F0FE;\n",
              "      border: none;\n",
              "      border-radius: 50%;\n",
              "      cursor: pointer;\n",
              "      display: none;\n",
              "      fill: #1967D2;\n",
              "      height: 32px;\n",
              "      padding: 0 0 0 0;\n",
              "      width: 32px;\n",
              "    }\n",
              "\n",
              "    .colab-df-convert:hover {\n",
              "      background-color: #E2EBFA;\n",
              "      box-shadow: 0px 1px 2px rgba(60, 64, 67, 0.3), 0px 1px 3px 1px rgba(60, 64, 67, 0.15);\n",
              "      fill: #174EA6;\n",
              "    }\n",
              "\n",
              "    [theme=dark] .colab-df-convert {\n",
              "      background-color: #3B4455;\n",
              "      fill: #D2E3FC;\n",
              "    }\n",
              "\n",
              "    [theme=dark] .colab-df-convert:hover {\n",
              "      background-color: #434B5C;\n",
              "      box-shadow: 0px 1px 3px 1px rgba(0, 0, 0, 0.15);\n",
              "      filter: drop-shadow(0px 1px 2px rgba(0, 0, 0, 0.3));\n",
              "      fill: #FFFFFF;\n",
              "    }\n",
              "  </style>\n",
              "\n",
              "      <script>\n",
              "        const buttonEl =\n",
              "          document.querySelector('#df-7c42cc08-cad1-4062-a793-2cd9ce4860cd button.colab-df-convert');\n",
              "        buttonEl.style.display =\n",
              "          google.colab.kernel.accessAllowed ? 'block' : 'none';\n",
              "\n",
              "        async function convertToInteractive(key) {\n",
              "          const element = document.querySelector('#df-7c42cc08-cad1-4062-a793-2cd9ce4860cd');\n",
              "          const dataTable =\n",
              "            await google.colab.kernel.invokeFunction('convertToInteractive',\n",
              "                                                     [key], {});\n",
              "          if (!dataTable) return;\n",
              "\n",
              "          const docLinkHtml = 'Like what you see? Visit the ' +\n",
              "            '<a target=\"_blank\" href=https://colab.research.google.com/notebooks/data_table.ipynb>data table notebook</a>'\n",
              "            + ' to learn more about interactive tables.';\n",
              "          element.innerHTML = '';\n",
              "          dataTable['output_type'] = 'display_data';\n",
              "          await google.colab.output.renderOutput(dataTable, element);\n",
              "          const docLink = document.createElement('div');\n",
              "          docLink.innerHTML = docLinkHtml;\n",
              "          element.appendChild(docLink);\n",
              "        }\n",
              "      </script>\n",
              "    </div>\n",
              "  </div>\n",
              "  "
            ]
          },
          "metadata": {},
          "execution_count": 160
        }
      ]
    },
    {
      "cell_type": "markdown",
      "source": [
        "\n",
        "The corresponding 1-day VaR estimates (denominated in basis points, 0.01%) for the same dates are generated by following code:\n"
      ],
      "metadata": {
        "id": "TZ6xVZSiHPbV"
      }
    },
    {
      "cell_type": "code",
      "source": [
        "np.random.seed(88)\n",
        "# Это записаны сотые доли от процента (denominated in basis points, 0.01%)\n",
        "VaRs = pd.Series(50 + np.random.randint(-10, 10, size=70), index=pd.period_range(end=\"2021-09-09\", periods=70, freq=\"B\"), name='vars')\n",
        "assert VaRs.iloc[0] == 40, \"Something is wrong! Contact the teacher\"\n",
        "print(VaRs)"
      ],
      "metadata": {
        "colab": {
          "base_uri": "https://localhost:8080/"
        },
        "id": "sZlsBGbEHRPL",
        "outputId": "a8675909-d3ac-40d2-a417-36441aa9d512"
      },
      "execution_count": 145,
      "outputs": [
        {
          "output_type": "stream",
          "name": "stdout",
          "text": [
            "2021-06-04    40\n",
            "2021-06-07    55\n",
            "2021-06-08    57\n",
            "2021-06-09    50\n",
            "2021-06-10    45\n",
            "              ..\n",
            "2021-09-03    46\n",
            "2021-09-06    54\n",
            "2021-09-07    56\n",
            "2021-09-08    59\n",
            "2021-09-09    56\n",
            "Freq: B, Name: vars, Length: 70, dtype: int64\n"
          ]
        }
      ]
    },
    {
      "cell_type": "markdown",
      "source": [
        "\n",
        "Find out how many times actual losses hit VaR estimates."
      ],
      "metadata": {
        "id": "7fdjVKuVHT6x"
      }
    },
    {
      "cell_type": "code",
      "source": [
        "data = pd.merge(index_quotes, VaRs*0.01, left_index=True, right_index=True)\n",
        "print(data[data['diff'] < -data['vars']].head(),'\\n')\n",
        "print('Ответ:', len(data[data['diff'] < -data['vars']]))"
      ],
      "metadata": {
        "colab": {
          "base_uri": "https://localhost:8080/"
        },
        "id": "dBqqad5qI6zB",
        "outputId": "cd834766-4584-4021-d4d7-e373e293c9da"
      },
      "execution_count": 166,
      "outputs": [
        {
          "output_type": "stream",
          "name": "stdout",
          "text": [
            "                diff  vars\n",
            "2021-06-10 -0.600601  0.45\n",
            "2021-06-16 -0.541191  0.52\n",
            "2021-06-25 -0.540216  0.47\n",
            "2021-07-23 -0.534442  0.50\n",
            "2021-08-10 -0.596659  0.40 \n",
            "\n",
            "Ответ: 6\n"
          ]
        }
      ]
    }
  ]
}